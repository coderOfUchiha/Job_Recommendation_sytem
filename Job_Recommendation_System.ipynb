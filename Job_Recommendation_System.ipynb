{
 "cells": [
  {
   "cell_type": "code",
   "execution_count": 1,
   "id": "0d9dc5e9-b2cb-44fc-8fb1-910ae5ba089d",
   "metadata": {},
   "outputs": [],
   "source": [
    "import pandas as pd\n",
    "import numpy as np"
   ]
  },
  {
   "cell_type": "code",
   "execution_count": 3,
   "id": "69d7925b-04f7-4965-9b7c-68aaf0b4eed1",
   "metadata": {},
   "outputs": [
    {
     "data": {
      "text/html": [
       "<div>\n",
       "<style scoped>\n",
       "    .dataframe tbody tr th:only-of-type {\n",
       "        vertical-align: middle;\n",
       "    }\n",
       "\n",
       "    .dataframe tbody tr th {\n",
       "        vertical-align: top;\n",
       "    }\n",
       "\n",
       "    .dataframe thead th {\n",
       "        text-align: right;\n",
       "    }\n",
       "</style>\n",
       "<table border=\"1\" class=\"dataframe\">\n",
       "  <thead>\n",
       "    <tr style=\"text-align: right;\">\n",
       "      <th></th>\n",
       "      <th>Job.ID</th>\n",
       "      <th>Provider</th>\n",
       "      <th>Status</th>\n",
       "      <th>Slug</th>\n",
       "      <th>Title</th>\n",
       "      <th>Position</th>\n",
       "      <th>Company</th>\n",
       "      <th>City</th>\n",
       "      <th>State.Name</th>\n",
       "      <th>State.Code</th>\n",
       "      <th>...</th>\n",
       "      <th>Industry</th>\n",
       "      <th>Job.Description</th>\n",
       "      <th>Requirements</th>\n",
       "      <th>Salary</th>\n",
       "      <th>Listing.Start</th>\n",
       "      <th>Listing.End</th>\n",
       "      <th>Employment.Type</th>\n",
       "      <th>Education.Required</th>\n",
       "      <th>Created.At</th>\n",
       "      <th>Updated.At</th>\n",
       "    </tr>\n",
       "  </thead>\n",
       "  <tbody>\n",
       "    <tr>\n",
       "      <th>0</th>\n",
       "      <td>111</td>\n",
       "      <td>1</td>\n",
       "      <td>open</td>\n",
       "      <td>palo-alto-ca-tacolicious-server</td>\n",
       "      <td>Server @ Tacolicious</td>\n",
       "      <td>Server</td>\n",
       "      <td>Tacolicious</td>\n",
       "      <td>Palo Alto</td>\n",
       "      <td>California</td>\n",
       "      <td>CA</td>\n",
       "      <td>...</td>\n",
       "      <td>Food and Beverages</td>\n",
       "      <td>Tacolicious' first Palo Alto store just opened...</td>\n",
       "      <td>NaN</td>\n",
       "      <td>8.0</td>\n",
       "      <td>NaN</td>\n",
       "      <td>NaN</td>\n",
       "      <td>Part-Time</td>\n",
       "      <td>NaN</td>\n",
       "      <td>2013-03-12 02:08:28 UTC</td>\n",
       "      <td>2014-08-16 15:35:36 UTC</td>\n",
       "    </tr>\n",
       "    <tr>\n",
       "      <th>1</th>\n",
       "      <td>113</td>\n",
       "      <td>1</td>\n",
       "      <td>open</td>\n",
       "      <td>san-francisco-ca-claude-lane-kitchen-staff-chef</td>\n",
       "      <td>Kitchen Staff/Chef @ Claude Lane</td>\n",
       "      <td>Kitchen Staff/Chef</td>\n",
       "      <td>Claude Lane</td>\n",
       "      <td>San Francisco</td>\n",
       "      <td>California</td>\n",
       "      <td>CA</td>\n",
       "      <td>...</td>\n",
       "      <td>Food and Beverages</td>\n",
       "      <td>\\r\\n\\r\\nNew French Brasserie in S.F. Financia...</td>\n",
       "      <td>NaN</td>\n",
       "      <td>0.0</td>\n",
       "      <td>NaN</td>\n",
       "      <td>NaN</td>\n",
       "      <td>Part-Time</td>\n",
       "      <td>NaN</td>\n",
       "      <td>2013-04-12 08:36:36 UTC</td>\n",
       "      <td>2014-08-16 15:35:36 UTC</td>\n",
       "    </tr>\n",
       "    <tr>\n",
       "      <th>2</th>\n",
       "      <td>117</td>\n",
       "      <td>1</td>\n",
       "      <td>open</td>\n",
       "      <td>san-francisco-ca-machka-restaurants-corp-barte...</td>\n",
       "      <td>Bartender @ Machka Restaurants Corp.</td>\n",
       "      <td>Bartender</td>\n",
       "      <td>Machka Restaurants Corp.</td>\n",
       "      <td>San Francisco</td>\n",
       "      <td>California</td>\n",
       "      <td>CA</td>\n",
       "      <td>...</td>\n",
       "      <td>Food and Beverages</td>\n",
       "      <td>We are a popular Mediterranean wine bar and re...</td>\n",
       "      <td>NaN</td>\n",
       "      <td>11.0</td>\n",
       "      <td>NaN</td>\n",
       "      <td>NaN</td>\n",
       "      <td>Part-Time</td>\n",
       "      <td>NaN</td>\n",
       "      <td>2013-07-16 09:34:10 UTC</td>\n",
       "      <td>2014-08-16 15:35:37 UTC</td>\n",
       "    </tr>\n",
       "  </tbody>\n",
       "</table>\n",
       "<p>3 rows × 23 columns</p>\n",
       "</div>"
      ],
      "text/plain": [
       "   Job.ID  Provider Status                                               Slug  \\\n",
       "0     111         1   open                    palo-alto-ca-tacolicious-server   \n",
       "1     113         1   open    san-francisco-ca-claude-lane-kitchen-staff-chef   \n",
       "2     117         1   open  san-francisco-ca-machka-restaurants-corp-barte...   \n",
       "\n",
       "                                  Title            Position  \\\n",
       "0                  Server @ Tacolicious              Server   \n",
       "1      Kitchen Staff/Chef @ Claude Lane  Kitchen Staff/Chef   \n",
       "2  Bartender @ Machka Restaurants Corp.           Bartender   \n",
       "\n",
       "                    Company           City  State.Name State.Code  ...  \\\n",
       "0               Tacolicious      Palo Alto  California         CA  ...   \n",
       "1               Claude Lane  San Francisco  California         CA  ...   \n",
       "2  Machka Restaurants Corp.  San Francisco  California         CA  ...   \n",
       "\n",
       "             Industry                                    Job.Description  \\\n",
       "0  Food and Beverages  Tacolicious' first Palo Alto store just opened...   \n",
       "1  Food and Beverages   \\r\\n\\r\\nNew French Brasserie in S.F. Financia...   \n",
       "2  Food and Beverages  We are a popular Mediterranean wine bar and re...   \n",
       "\n",
       "   Requirements Salary Listing.Start  Listing.End  Employment.Type  \\\n",
       "0           NaN    8.0           NaN          NaN        Part-Time   \n",
       "1           NaN    0.0           NaN          NaN        Part-Time   \n",
       "2           NaN   11.0           NaN          NaN        Part-Time   \n",
       "\n",
       "  Education.Required               Created.At               Updated.At  \n",
       "0                NaN  2013-03-12 02:08:28 UTC  2014-08-16 15:35:36 UTC  \n",
       "1                NaN  2013-04-12 08:36:36 UTC  2014-08-16 15:35:36 UTC  \n",
       "2                NaN  2013-07-16 09:34:10 UTC  2014-08-16 15:35:37 UTC  \n",
       "\n",
       "[3 rows x 23 columns]"
      ]
     },
     "execution_count": 3,
     "metadata": {},
     "output_type": "execute_result"
    }
   ],
   "source": [
    "df = pd.read_csv('Combined_Jobs_Final.csv')\n",
    "df.head(3)"
   ]
  },
  {
   "cell_type": "code",
   "execution_count": 4,
   "id": "543301cd-f4d0-410d-b7c0-086f7a3959a0",
   "metadata": {},
   "outputs": [
    {
     "name": "stdout",
     "output_type": "stream",
     "text": [
      "<class 'pandas.core.frame.DataFrame'>\n",
      "RangeIndex: 84090 entries, 0 to 84089\n",
      "Data columns (total 23 columns):\n",
      " #   Column              Non-Null Count  Dtype  \n",
      "---  ------              --------------  -----  \n",
      " 0   Job.ID              84090 non-null  int64  \n",
      " 1   Provider            84090 non-null  int64  \n",
      " 2   Status              84090 non-null  object \n",
      " 3   Slug                84090 non-null  object \n",
      " 4   Title               84090 non-null  object \n",
      " 5   Position            84090 non-null  object \n",
      " 6   Company             81819 non-null  object \n",
      " 7   City                83955 non-null  object \n",
      " 8   State.Name          83919 non-null  object \n",
      " 9   State.Code          83919 non-null  object \n",
      " 10  Address             36 non-null     object \n",
      " 11  Latitude            84090 non-null  float64\n",
      " 12  Longitude           84090 non-null  float64\n",
      " 13  Industry            267 non-null    object \n",
      " 14  Job.Description     84034 non-null  object \n",
      " 15  Requirements        0 non-null      float64\n",
      " 16  Salary              229 non-null    float64\n",
      " 17  Listing.Start       83407 non-null  object \n",
      " 18  Listing.End         83923 non-null  object \n",
      " 19  Employment.Type     84080 non-null  object \n",
      " 20  Education.Required  83823 non-null  object \n",
      " 21  Created.At          84090 non-null  object \n",
      " 22  Updated.At          84090 non-null  object \n",
      "dtypes: float64(4), int64(2), object(17)\n",
      "memory usage: 14.8+ MB\n"
     ]
    }
   ],
   "source": [
    "df.info()"
   ]
  },
  {
   "cell_type": "code",
   "execution_count": 5,
   "id": "5e843c91-889c-4a2e-9518-82a24595ed0f",
   "metadata": {},
   "outputs": [],
   "source": [
    "df= df[['Title', 'Job.Description']]"
   ]
  },
  {
   "cell_type": "code",
   "execution_count": 6,
   "id": "0068fea5-88f4-4311-ab2d-dcbe8018ddc0",
   "metadata": {},
   "outputs": [
    {
     "data": {
      "text/html": [
       "<div>\n",
       "<style scoped>\n",
       "    .dataframe tbody tr th:only-of-type {\n",
       "        vertical-align: middle;\n",
       "    }\n",
       "\n",
       "    .dataframe tbody tr th {\n",
       "        vertical-align: top;\n",
       "    }\n",
       "\n",
       "    .dataframe thead th {\n",
       "        text-align: right;\n",
       "    }\n",
       "</style>\n",
       "<table border=\"1\" class=\"dataframe\">\n",
       "  <thead>\n",
       "    <tr style=\"text-align: right;\">\n",
       "      <th></th>\n",
       "      <th>Title</th>\n",
       "      <th>Job.Description</th>\n",
       "    </tr>\n",
       "  </thead>\n",
       "  <tbody>\n",
       "    <tr>\n",
       "      <th>0</th>\n",
       "      <td>Server @ Tacolicious</td>\n",
       "      <td>Tacolicious' first Palo Alto store just opened...</td>\n",
       "    </tr>\n",
       "    <tr>\n",
       "      <th>1</th>\n",
       "      <td>Kitchen Staff/Chef @ Claude Lane</td>\n",
       "      <td>\\r\\n\\r\\nNew French Brasserie in S.F. Financia...</td>\n",
       "    </tr>\n",
       "    <tr>\n",
       "      <th>2</th>\n",
       "      <td>Bartender @ Machka Restaurants Corp.</td>\n",
       "      <td>We are a popular Mediterranean wine bar and re...</td>\n",
       "    </tr>\n",
       "  </tbody>\n",
       "</table>\n",
       "</div>"
      ],
      "text/plain": [
       "                                  Title  \\\n",
       "0                  Server @ Tacolicious   \n",
       "1      Kitchen Staff/Chef @ Claude Lane   \n",
       "2  Bartender @ Machka Restaurants Corp.   \n",
       "\n",
       "                                     Job.Description  \n",
       "0  Tacolicious' first Palo Alto store just opened...  \n",
       "1   \\r\\n\\r\\nNew French Brasserie in S.F. Financia...  \n",
       "2  We are a popular Mediterranean wine bar and re...  "
      ]
     },
     "execution_count": 6,
     "metadata": {},
     "output_type": "execute_result"
    }
   ],
   "source": [
    "df.head(3)"
   ]
  },
  {
   "cell_type": "code",
   "execution_count": 7,
   "id": "772afc5c-4997-42b7-87cb-d8b8708c93d2",
   "metadata": {},
   "outputs": [
    {
     "data": {
      "text/plain": [
       "'Kitchen Staff/Chef @ Claude Lane'"
      ]
     },
     "execution_count": 7,
     "metadata": {},
     "output_type": "execute_result"
    }
   ],
   "source": [
    "df['Title'][1]"
   ]
  },
  {
   "cell_type": "code",
   "execution_count": 8,
   "id": "6ab29def-7f41-4fe7-912b-68e1f41f0986",
   "metadata": {},
   "outputs": [
    {
     "data": {
      "text/plain": [
       "' \\r\\n\\r\\nNew French Brasserie in S.F. Financial District Seeks Chef\\r\\nWe are seeking an energetic, dynamic chef to take charge and grow with our company. Our ideal candidate is a motivated self-starter, has a great work ethic and is ready for the challenge of building their own team with executive support. \\r\\n\\r\\nThis position is a perfect fit for a talented chef ready to take the next step, someone who can multi task in a high volume kitchen and has exceptional organizational skills. Position requirements are experience with French cuisine, a minimum of 5 years as a sous chef in high volume, full service restaurant. He or she must be a team player, leading by example and working side by side with other members of the team. \\r\\n\\r\\nComputer and management skills are a must, as are experience in ordering, inventory and cost control. The right candidate will have previously demonstrated an understanding of leadership and accountability, and an infectious, energetic approach to problem solving and facing challenges. \\r\\n\\r\\nWe are an equal opportunity employer. Qualified applicants are considered for employment without regard to age, race, religion, sex, national origin, sexual orientation, disability, or veteran status. \\r\\n'"
      ]
     },
     "execution_count": 8,
     "metadata": {},
     "output_type": "execute_result"
    }
   ],
   "source": [
    "df['Job.Description'][1]"
   ]
  },
  {
   "cell_type": "code",
   "execution_count": 9,
   "id": "20b7c147-9450-498f-9581-1e04b4be8f9d",
   "metadata": {},
   "outputs": [
    {
     "name": "stderr",
     "output_type": "stream",
     "text": [
      "[nltk_data] Downloading package punkt to\n",
      "[nltk_data]     C:\\Users\\Lenovo\\AppData\\Roaming\\nltk_data...\n",
      "[nltk_data]   Package punkt is already up-to-date!\n",
      "[nltk_data] Downloading package stopwords to\n",
      "[nltk_data]     C:\\Users\\Lenovo\\AppData\\Roaming\\nltk_data...\n",
      "[nltk_data]   Package stopwords is already up-to-date!\n"
     ]
    },
    {
     "data": {
      "text/plain": [
       "True"
      ]
     },
     "execution_count": 9,
     "metadata": {},
     "output_type": "execute_result"
    }
   ],
   "source": [
    " import nltk\n",
    "from nltk.stem.porter import PorterStemmer\n",
    "from nltk.corpus import stopwords\n",
    "import re\n",
    "nltk.download('punkt')\n",
    "nltk.download('stopwords')"
   ]
  },
  {
   "cell_type": "code",
   "execution_count": 11,
   "id": "52bf7484-cd5d-47fc-ac39-51dbcf6d1968",
   "metadata": {},
   "outputs": [
    {
     "data": {
      "text/plain": [
       "(500, 2)"
      ]
     },
     "execution_count": 11,
     "metadata": {},
     "output_type": "execute_result"
    }
   ],
   "source": [
    "df = df.sample(n=500, random_state = 42)\n",
    "df.shape"
   ]
  },
  {
   "cell_type": "code",
   "execution_count": 12,
   "id": "87f41a25-aab7-4199-9d5d-d789a5ac1d43",
   "metadata": {},
   "outputs": [],
   "source": [
    "ps = PorterStemmer()\n",
    "def cleaning(txt):\n",
    "    cleaned_txt = re.sub(r'[^a-zA-Z0-9\\s]','',txt)\n",
    "    tokens= nltk.word_tokenize(cleaned_txt.lower())\n",
    "    stemming = [ps.stem(word) for word in tokens if word not in stopwords.words('english') ]\n",
    "    return \" \".join(stemming)"
   ]
  },
  {
   "cell_type": "code",
   "execution_count": 13,
   "id": "c4a352c5-ce9e-4b1b-9fd7-0006cd5d0187",
   "metadata": {},
   "outputs": [
    {
     "data": {
      "text/plain": [
       "'doctor 30 year old rn read write prescrib studi'"
      ]
     },
     "execution_count": 13,
     "metadata": {},
     "output_type": "execute_result"
    }
   ],
   "source": [
    "cleaning('I am a doctor, I am 30 years old /r/n&% reading writing prescribing studying')"
   ]
  },
  {
   "cell_type": "code",
   "execution_count": 14,
   "id": "bcb141b0-70f5-4afa-a08b-824cdaff5907",
   "metadata": {},
   "outputs": [],
   "source": [
    "  df['Title'] = df['Title'].apply(lambda x: cleaning(x))"
   ]
  },
  {
   "cell_type": "code",
   "execution_count": 15,
   "id": "3acbcac3-e21e-438a-a0b3-e54feb6f5e62",
   "metadata": {},
   "outputs": [
    {
     "data": {
      "text/html": [
       "<div>\n",
       "<style scoped>\n",
       "    .dataframe tbody tr th:only-of-type {\n",
       "        vertical-align: middle;\n",
       "    }\n",
       "\n",
       "    .dataframe tbody tr th {\n",
       "        vertical-align: top;\n",
       "    }\n",
       "\n",
       "    .dataframe thead th {\n",
       "        text-align: right;\n",
       "    }\n",
       "</style>\n",
       "<table border=\"1\" class=\"dataframe\">\n",
       "  <thead>\n",
       "    <tr style=\"text-align: right;\">\n",
       "      <th></th>\n",
       "      <th>Title</th>\n",
       "      <th>Job.Description</th>\n",
       "    </tr>\n",
       "  </thead>\n",
       "  <tbody>\n",
       "    <tr>\n",
       "      <th>30714</th>\n",
       "      <td>target mobil sale associ marketsourc</td>\n",
       "      <td>Target Mobile Sales Associate\\r\\n\\r\\nMarketSou...</td>\n",
       "    </tr>\n",
       "    <tr>\n",
       "      <th>64282</th>\n",
       "      <td>buyer purchas accountemp</td>\n",
       "      <td>Ref ID:04720-9740432Classification:Purchasing ...</td>\n",
       "    </tr>\n",
       "    <tr>\n",
       "      <th>33850</th>\n",
       "      <td>colleg intern sale oper hewlettpackard</td>\n",
       "      <td>Internship positions at HP afford college stu...</td>\n",
       "    </tr>\n",
       "  </tbody>\n",
       "</table>\n",
       "</div>"
      ],
      "text/plain": [
       "                                        Title  \\\n",
       "30714    target mobil sale associ marketsourc   \n",
       "64282                buyer purchas accountemp   \n",
       "33850  colleg intern sale oper hewlettpackard   \n",
       "\n",
       "                                         Job.Description  \n",
       "30714  Target Mobile Sales Associate\\r\\n\\r\\nMarketSou...  \n",
       "64282  Ref ID:04720-9740432Classification:Purchasing ...  \n",
       "33850   Internship positions at HP afford college stu...  "
      ]
     },
     "execution_count": 15,
     "metadata": {},
     "output_type": "execute_result"
    }
   ],
   "source": [
    "df.head(3)"
   ]
  },
  {
   "cell_type": "code",
   "execution_count": 16,
   "id": "048b285b-34b8-4685-95bb-f2601921ef94",
   "metadata": {},
   "outputs": [],
   "source": [
    " df['Job.Description'] = df['Job.Description'].apply(lambda x: cleaning(x))"
   ]
  },
  {
   "cell_type": "code",
   "execution_count": 17,
   "id": "ff871216-ed69-4417-87a3-fbc1b60b4ee8",
   "metadata": {},
   "outputs": [
    {
     "data": {
      "text/html": [
       "<div>\n",
       "<style scoped>\n",
       "    .dataframe tbody tr th:only-of-type {\n",
       "        vertical-align: middle;\n",
       "    }\n",
       "\n",
       "    .dataframe tbody tr th {\n",
       "        vertical-align: top;\n",
       "    }\n",
       "\n",
       "    .dataframe thead th {\n",
       "        text-align: right;\n",
       "    }\n",
       "</style>\n",
       "<table border=\"1\" class=\"dataframe\">\n",
       "  <thead>\n",
       "    <tr style=\"text-align: right;\">\n",
       "      <th></th>\n",
       "      <th>Title</th>\n",
       "      <th>Job.Description</th>\n",
       "    </tr>\n",
       "  </thead>\n",
       "  <tbody>\n",
       "    <tr>\n",
       "      <th>30714</th>\n",
       "      <td>target mobil sale associ marketsourc</td>\n",
       "      <td>target mobil sale associ marketsourc current s...</td>\n",
       "    </tr>\n",
       "    <tr>\n",
       "      <th>64282</th>\n",
       "      <td>buyer purchas accountemp</td>\n",
       "      <td>ref id047209740432classificationpurchas manage...</td>\n",
       "    </tr>\n",
       "    <tr>\n",
       "      <th>33850</th>\n",
       "      <td>colleg intern sale oper hewlettpackard</td>\n",
       "      <td>internship posit hp afford colleg student oppo...</td>\n",
       "    </tr>\n",
       "  </tbody>\n",
       "</table>\n",
       "</div>"
      ],
      "text/plain": [
       "                                        Title  \\\n",
       "30714    target mobil sale associ marketsourc   \n",
       "64282                buyer purchas accountemp   \n",
       "33850  colleg intern sale oper hewlettpackard   \n",
       "\n",
       "                                         Job.Description  \n",
       "30714  target mobil sale associ marketsourc current s...  \n",
       "64282  ref id047209740432classificationpurchas manage...  \n",
       "33850  internship posit hp afford colleg student oppo...  "
      ]
     },
     "execution_count": 17,
     "metadata": {},
     "output_type": "execute_result"
    }
   ],
   "source": [
    "df.head(3)"
   ]
  },
  {
   "cell_type": "code",
   "execution_count": 18,
   "id": "565b8174-c301-4e8f-9310-5b1462040ff9",
   "metadata": {},
   "outputs": [],
   "source": [
    "df ['new_col'] = df['Title']+ \" \" + df['Job.Description']"
   ]
  },
  {
   "cell_type": "code",
   "execution_count": 19,
   "id": "b012bdde-9065-4fb6-bc71-9961bec060c6",
   "metadata": {},
   "outputs": [
    {
     "data": {
      "text/html": [
       "<div>\n",
       "<style scoped>\n",
       "    .dataframe tbody tr th:only-of-type {\n",
       "        vertical-align: middle;\n",
       "    }\n",
       "\n",
       "    .dataframe tbody tr th {\n",
       "        vertical-align: top;\n",
       "    }\n",
       "\n",
       "    .dataframe thead th {\n",
       "        text-align: right;\n",
       "    }\n",
       "</style>\n",
       "<table border=\"1\" class=\"dataframe\">\n",
       "  <thead>\n",
       "    <tr style=\"text-align: right;\">\n",
       "      <th></th>\n",
       "      <th>Title</th>\n",
       "      <th>Job.Description</th>\n",
       "      <th>new_col</th>\n",
       "    </tr>\n",
       "  </thead>\n",
       "  <tbody>\n",
       "    <tr>\n",
       "      <th>30714</th>\n",
       "      <td>target mobil sale associ marketsourc</td>\n",
       "      <td>target mobil sale associ marketsourc current s...</td>\n",
       "      <td>target mobil sale associ marketsourc target mo...</td>\n",
       "    </tr>\n",
       "    <tr>\n",
       "      <th>64282</th>\n",
       "      <td>buyer purchas accountemp</td>\n",
       "      <td>ref id047209740432classificationpurchas manage...</td>\n",
       "      <td>buyer purchas accountemp ref id047209740432cla...</td>\n",
       "    </tr>\n",
       "    <tr>\n",
       "      <th>33850</th>\n",
       "      <td>colleg intern sale oper hewlettpackard</td>\n",
       "      <td>internship posit hp afford colleg student oppo...</td>\n",
       "      <td>colleg intern sale oper hewlettpackard interns...</td>\n",
       "    </tr>\n",
       "  </tbody>\n",
       "</table>\n",
       "</div>"
      ],
      "text/plain": [
       "                                        Title  \\\n",
       "30714    target mobil sale associ marketsourc   \n",
       "64282                buyer purchas accountemp   \n",
       "33850  colleg intern sale oper hewlettpackard   \n",
       "\n",
       "                                         Job.Description  \\\n",
       "30714  target mobil sale associ marketsourc current s...   \n",
       "64282  ref id047209740432classificationpurchas manage...   \n",
       "33850  internship posit hp afford colleg student oppo...   \n",
       "\n",
       "                                                 new_col  \n",
       "30714  target mobil sale associ marketsourc target mo...  \n",
       "64282  buyer purchas accountemp ref id047209740432cla...  \n",
       "33850  colleg intern sale oper hewlettpackard interns...  "
      ]
     },
     "execution_count": 19,
     "metadata": {},
     "output_type": "execute_result"
    }
   ],
   "source": [
    "df.head(3)"
   ]
  },
  {
   "cell_type": "code",
   "execution_count": 22,
   "id": "03b8c95a-56c2-4cf6-afa0-f3d4896c8a23",
   "metadata": {},
   "outputs": [],
   "source": [
    "from sklearn.feature_extraction.text import TfidfVectorizer\n",
    "from sklearn.metrics.pairwise import cosine_similarity\n"
   ]
  },
  {
   "cell_type": "code",
   "execution_count": 26,
   "id": "cfc146f4-e7a9-4116-8b2b-ea40f6757c1f",
   "metadata": {},
   "outputs": [],
   "source": [
    "tfidf = TfidfVectorizer()\n",
    "matrix = tfidf.fit_transform(df['new_col'])\n",
    "similarity = cosine_similarity(matrix)"
   ]
  },
  {
   "cell_type": "code",
   "execution_count": 27,
   "id": "65dcd7b4-4755-44c6-bb7e-49e6a67a76f5",
   "metadata": {},
   "outputs": [
    {
     "data": {
      "text/plain": [
       "array([[1.        , 0.0620835 , 0.11895261, ..., 0.00429417, 0.07261679,\n",
       "        0.05788235],\n",
       "       [0.0620835 , 1.        , 0.08505177, ..., 0.03192704, 0.0490559 ,\n",
       "        0.05210765],\n",
       "       [0.11895261, 0.08505177, 1.        , ..., 0.03970138, 0.07620419,\n",
       "        0.0452252 ],\n",
       "       ...,\n",
       "       [0.00429417, 0.03192704, 0.03970138, ..., 1.        , 0.02666425,\n",
       "        0.        ],\n",
       "       [0.07261679, 0.0490559 , 0.07620419, ..., 0.02666425, 1.        ,\n",
       "        0.02405997],\n",
       "       [0.05788235, 0.05210765, 0.0452252 , ..., 0.        , 0.02405997,\n",
       "        1.        ]])"
      ]
     },
     "execution_count": 27,
     "metadata": {},
     "output_type": "execute_result"
    }
   ],
   "source": [
    "similarity"
   ]
  },
  {
   "cell_type": "code",
   "execution_count": 50,
   "id": "418a29ac-1376-459e-893d-cf0808a6672b",
   "metadata": {},
   "outputs": [],
   "source": [
    "def recommend(title):\n",
    "\n",
    "        indx = df[df['Title'] == title].index[0]\n",
    "        indx = df.index.get_loc(indx)\n",
    "        distances = sorted(list(enumerate(similarity[indx])), key=lambda x: x[1], reverse=True)[1:20]\n",
    "\n",
    "        jobs = []\n",
    "        for i in distances:\n",
    "            jobs.append(df.iloc[i[0]].Title)\n",
    "        return jobs"
   ]
  },
  {
   "cell_type": "code",
   "execution_count": 51,
   "id": "eeba7ea5-c9f2-49a8-9a64-f26c23db08f9",
   "metadata": {},
   "outputs": [
    {
     "data": {
      "text/plain": [
       "['site director knowledg univers educ llc',\n",
       " 'assist teacher knowledg univers',\n",
       " 'cook knowledg univers',\n",
       " 'immedi open assist teacher la petit academi',\n",
       " 'summer school age assist children courtyard',\n",
       " 'fellowship program coordin connecticut children medic center',\n",
       " 'medic offic assist instructor concord career colleg inc',\n",
       " 'pharmaci adjunct instructor brown macki colleg',\n",
       " 'youth camp residenti assist activ coordin new york ny el educ servic',\n",
       " 'design bed sell specialist full timepart time bloomingdal mall short hill nj maci',\n",
       " 'men design sell specialist full timepart time bloomingdal newport beach ca bloomingdal',\n",
       " 'secur offic 100000 job coalit securita usa',\n",
       " 'secur offic regular securita usa',\n",
       " 'patient serv rep onsit es firstsourc solut ltd',\n",
       " 'faculti support specialist zenith educ group',\n",
       " 'faculti call zenith educ group',\n",
       " 'home store sale profession full timepart time bloomingdal walt whitman shop ny maci',\n",
       " 'arm secur offic securita usa',\n",
       " 'commun engag coordin nation multipl sclerosi societi']"
      ]
     },
     "execution_count": 51,
     "metadata": {},
     "output_type": "execute_result"
    }
   ],
   "source": [
    "recommend('site director knowledg univers')"
   ]
  },
  {
   "cell_type": "code",
   "execution_count": 52,
   "id": "3ea234a3-a2a3-4a74-b9a0-51b1e0a905e9",
   "metadata": {},
   "outputs": [],
   "source": [
    "import pickle\n",
    "pickle.dump(df, open('df.pkl', 'wb'))\n",
    "pickle.dump(similarity, open('similarity.pkl', 'wb'))"
   ]
  },
  {
   "cell_type": "code",
   "execution_count": null,
   "id": "28595d3b-ec45-451e-9594-b981287c4cdb",
   "metadata": {},
   "outputs": [],
   "source": []
  }
 ],
 "metadata": {
  "kernelspec": {
   "display_name": "Python 3 (ipykernel)",
   "language": "python",
   "name": "python3"
  },
  "language_info": {
   "codemirror_mode": {
    "name": "ipython",
    "version": 3
   },
   "file_extension": ".py",
   "mimetype": "text/x-python",
   "name": "python",
   "nbconvert_exporter": "python",
   "pygments_lexer": "ipython3",
   "version": "3.12.2"
  }
 },
 "nbformat": 4,
 "nbformat_minor": 5
}
